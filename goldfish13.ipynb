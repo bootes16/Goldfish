{
 "cells": [
  {
   "cell_type": "code",
   "execution_count": 2,
   "metadata": {},
   "outputs": [],
   "source": [
    "Krenko = 0\n",
    "numGoblinToks = 0\n",
    "newGoblinToks = 0\n",
    "GoblinOneOnes = []\n",
    "\n",
    "def state():\n",
    "    numOneOnes = sum(GoblinOneOnes)\n",
    "    print(f\"{numOneOnes} = sum({GoblinOneOnes})\")\n",
    "    print(f\"Damage: 2^{newGoblinToks}, Krenko: {Krenko}, Num/New Goblins: {numGoblinToks}/{newGoblinToks}\")"
   ]
  },
  {
   "cell_type": "code",
   "execution_count": 3,
   "metadata": {},
   "outputs": [],
   "source": [
    "# Turn 1\n",
    "# Life: 20\n",
    "# Hand: 7\n",
    "# R + U\n",
    "# + Mox Sapphire\n",
    "# + Ancestral Vision {suspend} - TimeCnt=4\n",
    "# Hand: 4\n",
    "# game = State()\n",
    "# game.update(0)"
   ]
  },
  {
   "cell_type": "code",
   "execution_count": 4,
   "metadata": {},
   "outputs": [
    {
     "name": "stdout",
     "output_type": "stream",
     "text": [
      "0 = sum([])\n",
      "Damage: 2^0, Krenko: 1, Num/New Goblins: 0/0\n"
     ]
    }
   ],
   "source": [
    "# Turn 2\n",
    "# Vision: TimeCnt=3\n",
    "# Draw - Hand: 5\n",
    "# RW + U\n",
    "# + Krenko - [UW]R\n",
    "# Hand: 3\n",
    "Krenko = 1\n",
    "state()"
   ]
  },
  {
   "cell_type": "code",
   "execution_count": 5,
   "metadata": {},
   "outputs": [
    {
     "name": "stdout",
     "output_type": "stream",
     "text": [
      "0 = sum([])\n",
      "Damage: 2^5, Krenko: 3, Num/New Goblins: 5/5\n"
     ]
    }
   ],
   "source": [
    "# Turn 3\n",
    "# Vision: TimeCnt=2\n",
    "# Draw - Hand: 4\n",
    "# RWB + U\n",
    "# + Isshin - RWB\n",
    "# Hand: 2\n",
    "# Isshin = 1\n",
    "\n",
    "# Attack - Krenko\n",
    "Krenko += 1\n",
    "newGoblinToks = Krenko\n",
    "\n",
    "# Isshin - trigger Krenko's ability a second time\n",
    "Krenko += 1\n",
    "newGoblinToks += Krenko\n",
    "numGoblinToks = newGoblinToks\n",
    "\n",
    "# Combat\n",
    "state()"
   ]
  },
  {
   "cell_type": "code",
   "execution_count": 6,
   "metadata": {},
   "outputs": [
    {
     "name": "stdout",
     "output_type": "stream",
     "text": [
      "0 = sum([])\n",
      "Damage: 2^9, Krenko: 5, Num/New Goblins: 14/9\n"
     ]
    }
   ],
   "source": [
    "# Turn 4\n",
    "# Vision: TimeCnt=1\n",
    "# Draw - Hand: 3\n",
    "# RWBG + U\n",
    "# + Gleam - [x]W - attach to Krenko\n",
    "# + Devilish Valet - [xx]R\n",
    "# Hand: 0\n",
    "Valet = 1\n",
    "\n",
    "# Attack - Krenko\n",
    "Krenko += 1\n",
    "newGoblinToks = Krenko\n",
    "\n",
    "Krenko += 1\n",
    "newGoblinToks += Krenko\n",
    "numGoblinToks += newGoblinToks\n",
    "\n",
    "# Combat\n",
    "state()\n"
   ]
  },
  {
   "cell_type": "code",
   "execution_count": 7,
   "metadata": {},
   "outputs": [
    {
     "name": "stdout",
     "output_type": "stream",
     "text": [
      "0 = sum([])\n",
      "Damage: 2^13, Krenko: 7, Num/New Goblins: 27/13\n"
     ]
    }
   ],
   "source": [
    "# Turn 5\n",
    "# Hand: 1\n",
    "# Vision: TimeCnt=0 - draw +3\n",
    "# Draw - Hand: 4\n",
    "# RWWBG + U\n",
    "# + Medomai - [xxxx]WU\n",
    "# Hand: 2\n",
    "\n",
    "# Attack - Krenko, Valet\n",
    "Krenko += 1\n",
    "newGoblinToks = Krenko\n",
    "Krenko += 1\n",
    "newGoblinToks += Krenko\n",
    "numGoblinToks += newGoblinToks\n",
    "\n",
    "\n",
    "# Combat\n",
    "state()"
   ]
  },
  {
   "cell_type": "code",
   "execution_count": 8,
   "metadata": {},
   "outputs": [
    {
     "name": "stdout",
     "output_type": "stream",
     "text": [
      "0 = sum([])\n",
      "Damage: 2^17, Krenko: 9, Num/New Goblins: 27/17\n",
      "0 = sum([])\n",
      "Damage: 2^17, Krenko: 9, Num/New Goblins: 44/17\n"
     ]
    }
   ],
   "source": [
    "# Turn 6\n",
    "# Hand: 3\n",
    "# RRWWBG + U\n",
    "# + Blade Historian - RRWW\n",
    "# + Sylvan Library - [x]G\n",
    "# Hand: 0\n",
    "\n",
    "# Attack - Medomai, Krenko, Valet\n",
    "Krenko += 1\n",
    "newGoblinToks = Krenko\n",
    "Krenko += 1\n",
    "newGoblinToks += Krenko\n",
    "\n",
    "# First Strike\n",
    "# Medomai +1 extra turn\n",
    "# numGoblinToks += newGoblinToks\n",
    "\n",
    "state()\n",
    "\n",
    "# Combat\n",
    "# Medomai +1 extra turn\n",
    "numGoblinToks += newGoblinToks\n",
    "\n",
    "# valetPower = pow(2, newGoblinToks)\n",
    "state()\n"
   ]
  },
  {
   "cell_type": "code",
   "execution_count": 9,
   "metadata": {},
   "outputs": [
    {
     "name": "stdout",
     "output_type": "stream",
     "text": [
      "0 = sum([])\n",
      "Damage: 2^46, Krenko: 13, Num/New Goblins: 44/46\n",
      "0 = sum([])\n",
      "Damage: 2^46, Krenko: 13, Num/New Goblins: 44/46\n"
     ]
    }
   ],
   "source": [
    "# Turn 6 + 1\n",
    "# Hand: 1\n",
    "# Silvan Library: Hand + 2, life-8\n",
    "# Life: 12\n",
    "# Hand: 3\n",
    "# RRWWBBG + U\n",
    "# + Drana, Liberator of Malakir - [x]BB\n",
    "# + Finest Hour - [xx]GWU\n",
    "# Hand: 0\n",
    "\n",
    "# Combat 1st Phase - Krenko alone (double-strike)\n",
    "Krenko += 1\n",
    "newGoblinToks = Krenko\n",
    "Krenko += 1\n",
    "newGoblinToks += Krenko\n",
    "\n",
    "# First Strike\n",
    "\n",
    "# Combat\n",
    "\n",
    "# Combat 2nd Phase (Finest Hour) - Krenko, Valet (double-strike)\n",
    "Krenko += 1\n",
    "newGoblinToks += Krenko\n",
    "Krenko += 1\n",
    "newGoblinToks += Krenko\n",
    "\n",
    "# First Strike\n",
    "state()\n",
    "\n",
    "# Combat\n",
    "state()\n",
    "\n",
    "numGoblinToks += newGoblinToks"
   ]
  },
  {
   "cell_type": "code",
   "execution_count": 10,
   "metadata": {},
   "outputs": [
    {
     "name": "stdout",
     "output_type": "stream",
     "text": [
      "90 = sum([90])\n",
      "Damage: 2^62, Krenko: 17, Num/New Goblins: 90/62\n",
      "180 = sum([90, 90])\n",
      "Damage: 2^62, Krenko: 17, Num/New Goblins: 90/62\n"
     ]
    }
   ],
   "source": [
    "# Turn 6 + 2\n",
    "# Hand: 1\n",
    "# Silvan Library: Hand +2, Life -8\n",
    "# Life: 4\n",
    "# Hand: 4\n",
    "# RRWWBBGG + U\n",
    "# + Brokers Ascendency - GWB\n",
    "# Hand: 2\n",
    "\n",
    "# Combat: 1st Phase - Krenko attacks alone (double-strike)\n",
    "Krenko += 1\n",
    "newGoblinToks = Krenko\n",
    "Krenko += 1\n",
    "newGoblinToks += Krenko\n",
    "\n",
    "# First Strike\n",
    "# Second Strike\n",
    "\n",
    "# Combat: 2nd Phase - Krenko, Valet, Drana, Goblin Tokens (double-strike)\n",
    "Krenko += 1\n",
    "newGoblinToks += Krenko\n",
    "Krenko += 1\n",
    "newGoblinToks += Krenko\n",
    "\n",
    "# First Strike Damage - Krenko, Valet, Drana, attacking Goblin Tokens\n",
    "# Drana +1/+1 to each attacking Golin Token\n",
    "GoblinOneOnes.append(numGoblinToks)\n",
    "state()\n",
    "\n",
    "# Combat Damage - Krenko, Valet, Drana, tokens\n",
    "GoblinOneOnes.append(numGoblinToks)\n",
    "state()\n",
    "\n",
    "numGoblinToks += newGoblinToks\n",
    "# End Step - Brokers Ascendency - +1/+1 to each crature.\n",
    "GoblinOneOnes.append(numGoblinToks)\n"
   ]
  },
  {
   "cell_type": "code",
   "execution_count": 11,
   "metadata": {},
   "outputs": [
    {
     "name": "stdout",
     "output_type": "stream",
     "text": [
      "484 = sum([90, 90, 152, 152])\n",
      "Damage: 2^763, Krenko: 19, Num/New Goblins: 152/763\n",
      "636 = sum([90, 90, 152, 152, 152])\n",
      "Damage: 2^763, Krenko: 19, Num/New Goblins: 152/763\n"
     ]
    }
   ],
   "source": [
    "# Turn 7\n",
    "\n",
    "# Combat: 1st Phase - Medomai attacks alone (double-strike)\n",
    "# First Strike: +1 extra turn\n",
    "# Second Strike: +1 extra turn\n",
    "\n",
    "# Combat: 2nd Phase - Medomai, Krenko, Valet, Drana, Goblin Tokens (double-strike)\n",
    "Krenko += 1\n",
    "newGoblinToks += Krenko + sum(GoblinOneOnes)\n",
    "Krenko += 1\n",
    "newGoblinToks += Krenko + sum(GoblinOneOnes)\n",
    "\n",
    "# First Strike Damage\n",
    "# Medomai: +1 extra turn\n",
    "# Drana +1/+1 to each attacking Golin Token\n",
    "GoblinOneOnes.append(numGoblinToks)\n",
    "state()\n",
    "\n",
    "# Second Strike Damage\n",
    "# Medomai: +1 extra turn\n",
    "GoblinOneOnes.append(numGoblinToks)\n",
    "state()\n",
    "\n",
    "numGoblinToks += newGoblinToks\n",
    "# End Step - Brokers Ascendency - +1/+1 to each crature.\n",
    "GoblinOneOnes.append(numGoblinToks)"
   ]
  },
  {
   "cell_type": "code",
   "execution_count": 12,
   "metadata": {},
   "outputs": [
    {
     "name": "stdout",
     "output_type": "stream",
     "text": [
      "2466 = sum([90, 90, 152, 152, 152, 915, 915])\n",
      "Damage: 2^6290, Krenko: 23, Num/New Goblins: 915/6290\n",
      "3381 = sum([90, 90, 152, 152, 152, 915, 915, 915])\n",
      "Damage: 2^6290, Krenko: 23, Num/New Goblins: 915/6290\n"
     ]
    }
   ],
   "source": [
    "# Turn 7 + 1\n",
    "\n",
    "# Combat: 1st Phase - Krenko attacks alone (double-strike)\n",
    "Krenko += 1\n",
    "newGoblinToks = Krenko + sum(GoblinOneOnes)\n",
    "Krenko += 1\n",
    "newGoblinToks += Krenko + sum(GoblinOneOnes)\n",
    "\n",
    "# First Strike\n",
    "# Second Strike\n",
    "\n",
    "# Combat: 2nd Phase - Krenko, Valet, Drana, Goblin Tokens (double-strike)\n",
    "Krenko += 1\n",
    "newGoblinToks += Krenko + sum(GoblinOneOnes)\n",
    "Krenko += 1\n",
    "newGoblinToks += Krenko + sum(GoblinOneOnes)\n",
    "\n",
    "# First Strike Damage - Krenko, Valet, Drana, attacking Goblin Tokens\n",
    "# Drana +1/+1 to each attacking Golin Token\n",
    "GoblinOneOnes.append(numGoblinToks)\n",
    "state()\n",
    "\n",
    "# Combat Damage - Krenko, Valet, Drana, tokens\n",
    "GoblinOneOnes.append(numGoblinToks)\n",
    "state()\n",
    "\n",
    "numGoblinToks += newGoblinToks\n",
    "# End Step - Brokers Ascendency - +1/+1 to each crature.\n",
    "GoblinOneOnes.append(numGoblinToks)"
   ]
  },
  {
   "cell_type": "code",
   "execution_count": 13,
   "metadata": {},
   "outputs": [
    {
     "name": "stdout",
     "output_type": "stream",
     "text": [
      "17791 = sum([90, 90, 152, 152, 152, 915, 915, 915, 7205, 7205])\n",
      "Damage: 2^42446, Krenko: 27, Num/New Goblins: 7205/42446\n",
      "24996 = sum([90, 90, 152, 152, 152, 915, 915, 915, 7205, 7205, 7205])\n",
      "Damage: 2^42446, Krenko: 27, Num/New Goblins: 7205/42446\n"
     ]
    }
   ],
   "source": [
    "# Turn 7 + 2\n",
    "\n",
    "# Combat: 1st Phase - Krenko attacks alone (double-strike)\n",
    "Krenko += 1\n",
    "newGoblinToks = Krenko + sum(GoblinOneOnes)\n",
    "Krenko += 1\n",
    "newGoblinToks += Krenko + sum(GoblinOneOnes)\n",
    "\n",
    "# First Strike\n",
    "# Second Strike\n",
    "\n",
    "# Combat: 2nd Phase - Krenko, Valet, Drana, Goblin Tokens (double-strike)\n",
    "Krenko += 1\n",
    "newGoblinToks += Krenko + sum(GoblinOneOnes)\n",
    "Krenko += 1\n",
    "newGoblinToks += Krenko + sum(GoblinOneOnes)\n",
    "\n",
    "# First Strike Damage - Krenko, Valet, Drana, attacking Goblin Tokens\n",
    "# Drana +1/+1 to each attacking Golin Token\n",
    "GoblinOneOnes.append(numGoblinToks)\n",
    "state()\n",
    "\n",
    "# Combat Damage - Krenko, Valet, Drana, tokens\n",
    "GoblinOneOnes.append(numGoblinToks)\n",
    "state()\n",
    "\n",
    "numGoblinToks += newGoblinToks\n",
    "# End Step - Brokers Ascendency - +1/+1 to each crature.\n",
    "GoblinOneOnes.append(numGoblinToks)"
   ]
  },
  {
   "cell_type": "code",
   "execution_count": 14,
   "metadata": {},
   "outputs": [
    {
     "name": "stdout",
     "output_type": "stream",
     "text": [
      "124298 = sum([90, 90, 152, 152, 152, 915, 915, 915, 7205, 7205, 7205, 49651, 49651])\n",
      "Damage: 2^298706, Krenko: 31, Num/New Goblins: 49651/298706\n",
      "173949 = sum([90, 90, 152, 152, 152, 915, 915, 915, 7205, 7205, 7205, 49651, 49651, 49651])\n",
      "Damage: 2^298706, Krenko: 31, Num/New Goblins: 49651/298706\n"
     ]
    }
   ],
   "source": [
    "# Turn 7 + 3\n",
    "\n",
    "# Combat: 1st Phase - Krenko attacks alone (double-strike)\n",
    "Krenko += 1\n",
    "newGoblinToks = Krenko + sum(GoblinOneOnes)\n",
    "Krenko += 1\n",
    "newGoblinToks += Krenko + sum(GoblinOneOnes)\n",
    "\n",
    "# First Strike\n",
    "# Second Strike\n",
    "\n",
    "# Combat: 2nd Phase - Krenko, Valet, Drana, Goblin Tokens (double-strike)\n",
    "Krenko += 1\n",
    "newGoblinToks += Krenko + sum(GoblinOneOnes)\n",
    "Krenko += 1\n",
    "newGoblinToks += Krenko + sum(GoblinOneOnes)\n",
    "\n",
    "# First Strike Damage - Krenko, Valet, Drana, attacking Goblin Tokens\n",
    "# Drana +1/+1 to each attacking Golin Token\n",
    "GoblinOneOnes.append(numGoblinToks)\n",
    "state()\n",
    "\n",
    "# Combat Damage - Krenko, Valet, Drana, tokens\n",
    "GoblinOneOnes.append(numGoblinToks)\n",
    "state()\n",
    "\n",
    "numGoblinToks += newGoblinToks\n",
    "# End Step - Brokers Ascendency - +1/+1 to each crature.\n",
    "GoblinOneOnes.append(numGoblinToks)"
   ]
  },
  {
   "cell_type": "code",
   "execution_count": 15,
   "metadata": {},
   "outputs": [
    {
     "name": "stdout",
     "output_type": "stream",
     "text": [
      "870663 = sum([90, 90, 152, 152, 152, 915, 915, 915, 7205, 7205, 7205, 49651, 49651, 49651, 348357, 348357])\n",
      "Damage: 2^2089358, Krenko: 35, Num/New Goblins: 348357/2089358\n",
      "1219020 = sum([90, 90, 152, 152, 152, 915, 915, 915, 7205, 7205, 7205, 49651, 49651, 49651, 348357, 348357, 348357])\n",
      "Damage: 2^2089358, Krenko: 35, Num/New Goblins: 348357/2089358\n"
     ]
    }
   ],
   "source": [
    "# Turn 7 + 4\n",
    "\n",
    "# Combat: 1st Phase - Krenko attacks alone (double-strike)\n",
    "Krenko += 1\n",
    "newGoblinToks = Krenko + sum(GoblinOneOnes)\n",
    "Krenko += 1\n",
    "newGoblinToks += Krenko + sum(GoblinOneOnes)\n",
    "\n",
    "# First Strike\n",
    "# Second Strike\n",
    "\n",
    "# Combat: 2nd Phase - Krenko, Valet, Drana, Goblin Tokens (double-strike)\n",
    "Krenko += 1\n",
    "newGoblinToks += Krenko + sum(GoblinOneOnes)\n",
    "Krenko += 1\n",
    "newGoblinToks += Krenko + sum(GoblinOneOnes)\n",
    "\n",
    "# First Strike Damage - Krenko, Valet, Drana, attacking Goblin Tokens\n",
    "# Drana +1/+1 to each attacking Golin Token\n",
    "GoblinOneOnes.append(numGoblinToks)\n",
    "state()\n",
    "\n",
    "# Combat Damage - Krenko, Valet, Drana, tokens\n",
    "GoblinOneOnes.append(numGoblinToks)\n",
    "state()\n",
    "\n",
    "numGoblinToks += newGoblinToks\n",
    "# End Step - Brokers Ascendency - +1/+1 to each crature.\n",
    "GoblinOneOnes.append(numGoblinToks)"
   ]
  }
 ],
 "metadata": {
  "interpreter": {
   "hash": "c487c4468cc553fab60ba0a7493e6ff6c50c2cdc6acb9fcf9879f61105e9ad28"
  },
  "kernelspec": {
   "display_name": "Python 3.8.3 64-bit ('base': conda)",
   "language": "python",
   "name": "python3"
  },
  "language_info": {
   "codemirror_mode": {
    "name": "ipython",
    "version": 3
   },
   "file_extension": ".py",
   "mimetype": "text/x-python",
   "name": "python",
   "nbconvert_exporter": "python",
   "pygments_lexer": "ipython3",
   "version": "3.8.3"
  },
  "orig_nbformat": 4
 },
 "nbformat": 4,
 "nbformat_minor": 2
}
